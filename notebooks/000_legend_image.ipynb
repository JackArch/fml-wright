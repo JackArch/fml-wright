{
 "cells": [
  {
   "cell_type": "code",
   "execution_count": null,
   "metadata": {},
   "outputs": [],
   "source": [
    "from fmlwright.core import labeling\n",
    "from shapely.geometry import Polygon\n",
    "\n",
    "import geopandas as gpd\n",
    "import matplotlib.pyplot as plt\n",
    "import numpy as np\n",
    "\n",
    "%matplotlib inline"
   ]
  },
  {
   "cell_type": "code",
   "execution_count": null,
   "metadata": {},
   "outputs": [],
   "source": [
    "colormap = labeling.get_room_color_map()"
   ]
  },
  {
   "cell_type": "code",
   "execution_count": null,
   "metadata": {},
   "outputs": [],
   "source": [
    "REC_SIZE = 3\n",
    "rectangle = Polygon([(0, 0), (0, REC_SIZE), (REC_SIZE, REC_SIZE), (REC_SIZE, 0)])\n",
    "categories = list(colormap.keys())\n",
    "colors = list(colormap.values())\n",
    "\n",
    "colors_lowered = []\n",
    "for _col in colors:\n",
    "    row = []\n",
    "    for _val in _col:\n",
    "        row.append(_val / 255)\n",
    "    colors_lowered.append(row)\n",
    "    \n",
    "legend_items = gpd.GeoDataFrame({'categories':categories,\n",
    "                                 'colors': colors_lowered},\n",
    "                                geometry=[rectangle]*len(colors))"
   ]
  },
  {
   "cell_type": "code",
   "execution_count": null,
   "metadata": {},
   "outputs": [],
   "source": [
    "fig, axes = plt.subplots(nrows=int(np.ceil(legend_items.shape[0]/5)), \n",
    "                         ncols=5)\n",
    "for i, ax in enumerate(axes.flatten()):\n",
    "    ax.axis('off')\n",
    "    if i not in legend_items.index:\n",
    "        continue\n",
    "    row = legend_items.loc[[i]].copy()\n",
    "    row.plot(ax=ax, color=row['colors'])\n",
    "    \n",
    "    ax.set_title(row['categories'].values[0])\n",
    "\n",
    "fig.suptitle('Color per category', y=1.02)\n",
    "plt.tight_layout()"
   ]
  },
  {
   "cell_type": "code",
   "execution_count": null,
   "metadata": {},
   "outputs": [],
   "source": []
  }
 ],
 "metadata": {
  "kernelspec": {
   "display_name": "Python 3",
   "language": "python",
   "name": "python3"
  },
  "language_info": {
   "codemirror_mode": {
    "name": "ipython",
    "version": 3
   },
   "file_extension": ".py",
   "mimetype": "text/x-python",
   "name": "python",
   "nbconvert_exporter": "python",
   "pygments_lexer": "ipython3",
   "version": "3.8.3"
  }
 },
 "nbformat": 4,
 "nbformat_minor": 4
}
