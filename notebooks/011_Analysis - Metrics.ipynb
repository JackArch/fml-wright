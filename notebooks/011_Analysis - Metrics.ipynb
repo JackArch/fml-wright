{
 "cells": [
  {
   "cell_type": "markdown",
   "metadata": {},
   "source": [
    "# Metrics\n",
    "\n",
    "This notebook is a rough first draft for metric creation."
   ]
  },
  {
   "cell_type": "code",
   "execution_count": null,
   "metadata": {},
   "outputs": [],
   "source": [
    "import cv2\n",
    "from pathlib import Path\n",
    "import matplotlib.pyplot as plt\n",
    "\n",
    "%matplotlib inline"
   ]
  },
  {
   "cell_type": "code",
   "execution_count": null,
   "metadata": {},
   "outputs": [],
   "source": [
    "data_directory = Path('../data/images/floorplan/output/')\n",
    "files = [x for x in data_directory.glob('*.png')]"
   ]
  },
  {
   "cell_type": "code",
   "execution_count": null,
   "metadata": {},
   "outputs": [],
   "source": [
    "from fmlwright.core.preprocessing import image_to_geodataframe\n",
    "import networkx as nx"
   ]
  },
  {
   "cell_type": "markdown",
   "metadata": {},
   "source": [
    "# Neigbour regions"
   ]
  },
  {
   "cell_type": "code",
   "execution_count": null,
   "metadata": {},
   "outputs": [],
   "source": [
    "def find_neighbouring_areas(gdf):\n",
    "    buffer = 2 # add small buffer to ensure overlap.\n",
    "\n",
    "    matching_ids = {}\n",
    "    for i, row in gdf.iterrows():\n",
    "        matching_id = gdf[~gdf.geometry.buffer(buffer).disjoint(row.geometry)].index\n",
    "        matching_id = [x for x in matching_id if i != x]\n",
    "        matching_ids[i] = matching_id\n",
    "    \n",
    "    return matching_ids"
   ]
  },
  {
   "cell_type": "code",
   "execution_count": null,
   "metadata": {},
   "outputs": [],
   "source": [
    "def create_graph(matching_ids, gdf):\n",
    "    G = nx.Graph()\n",
    "    edges = []\n",
    "    for key, val in matching_ids.items():\n",
    "        for _v in val:\n",
    "            edges.append((key, _v))\n",
    "    \n",
    "    pos = {}\n",
    "    for i, row in gdf.iterrows():\n",
    "        pos[i] = [row.geometry.centroid.x, row.geometry.centroid.y]\n",
    "        \n",
    "    G.add_edges_from(edges)\n",
    "    for x in G.nodes():\n",
    "        coords = pos[x]\n",
    "        G.nodes[x]['x'] = coords[0]\n",
    "        G.nodes[x]['y'] = coords[1]\n",
    "    return G\n",
    "\n",
    "def get_coords(G):\n",
    "    coords = {}\n",
    "    for x in G.nodes(data=True):\n",
    "        coords[x[0]] = [x[1]['x'], x[1]['y']]\n",
    "    return coords"
   ]
  },
  {
   "cell_type": "code",
   "execution_count": null,
   "metadata": {},
   "outputs": [],
   "source": [
    "files"
   ]
  },
  {
   "cell_type": "code",
   "execution_count": null,
   "metadata": {},
   "outputs": [],
   "source": [
    "img = cv2.imread(str(files[11]))"
   ]
  },
  {
   "cell_type": "code",
   "execution_count": null,
   "metadata": {},
   "outputs": [],
   "source": [
    "connectivity = image_to_geodataframe(img)\n",
    "results = find_neighbouring_areas(connectivity)\n",
    "G = create_graph(results, connectivity)"
   ]
  },
  {
   "cell_type": "code",
   "execution_count": null,
   "metadata": {},
   "outputs": [],
   "source": [
    "fig, ax = plt.subplots()\n",
    "plt.imshow(img)\n",
    "nx.draw(G, get_coords(G))"
   ]
  },
  {
   "cell_type": "markdown",
   "metadata": {},
   "source": [
    "---\n",
    "# Bar plot"
   ]
  },
  {
   "cell_type": "code",
   "execution_count": null,
   "metadata": {},
   "outputs": [],
   "source": [
    "import pandas as pd"
   ]
  },
  {
   "cell_type": "code",
   "execution_count": null,
   "metadata": {},
   "outputs": [],
   "source": [
    "connectivity.plot(color=connectivity['colors'])"
   ]
  },
  {
   "cell_type": "code",
   "execution_count": null,
   "metadata": {},
   "outputs": [],
   "source": [
    "areas = connectivity[['category', 'colors']].copy()\n",
    "areas['area'] = connectivity.geometry.area"
   ]
  },
  {
   "cell_type": "code",
   "execution_count": null,
   "metadata": {},
   "outputs": [],
   "source": [
    "areas"
   ]
  },
  {
   "cell_type": "code",
   "execution_count": null,
   "metadata": {},
   "outputs": [],
   "source": [
    "fig, ax = plt.subplots(figsize=(10, 10))\n",
    "areas[['area']].T.plot.bar(ax=ax, stacked=True, color=areas['colors'], legend=False)\n",
    "plt.axis(\"off\");"
   ]
  },
  {
   "cell_type": "markdown",
   "metadata": {},
   "source": [
    "----\n",
    "# Skeletonize"
   ]
  },
  {
   "cell_type": "code",
   "execution_count": null,
   "metadata": {},
   "outputs": [],
   "source": [
    "from skimage.morphology import skeletonize"
   ]
  },
  {
   "cell_type": "code",
   "execution_count": null,
   "metadata": {},
   "outputs": [],
   "source": [
    "res = skeletonize(img)"
   ]
  },
  {
   "cell_type": "code",
   "execution_count": null,
   "metadata": {},
   "outputs": [],
   "source": [
    "plt.imshow(img)"
   ]
  },
  {
   "cell_type": "code",
   "execution_count": null,
   "metadata": {},
   "outputs": [],
   "source": [
    "plt.imshow(res)"
   ]
  }
 ],
 "metadata": {
  "kernelspec": {
   "display_name": "Python 3",
   "language": "python",
   "name": "python3"
  },
  "language_info": {
   "codemirror_mode": {
    "name": "ipython",
    "version": 3
   },
   "file_extension": ".py",
   "mimetype": "text/x-python",
   "name": "python",
   "nbconvert_exporter": "python",
   "pygments_lexer": "ipython3",
   "version": "3.8.3"
  }
 },
 "nbformat": 4,
 "nbformat_minor": 4
}
