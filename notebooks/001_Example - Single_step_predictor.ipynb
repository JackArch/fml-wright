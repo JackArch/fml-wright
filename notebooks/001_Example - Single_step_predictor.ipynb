{
 "cells": [
  {
   "cell_type": "markdown",
   "metadata": {},
   "source": [
    "# Single step predictor\n",
    "\n",
    "This notebook shows how to load the predictor, make some predictions, and postprocess them."
   ]
  },
  {
   "cell_type": "code",
   "execution_count": null,
   "metadata": {},
   "outputs": [],
   "source": [
    "%load_ext autoreload\n",
    "%autoreload 2"
   ]
  },
  {
   "cell_type": "code",
   "execution_count": null,
   "metadata": {},
   "outputs": [],
   "source": [
    "from fmlwright.modeling.predictor import SingleStepPredictor\n",
    "from fmlwright.core import preprocessing, postprocessing\n",
    "\n",
    "from pathlib import Path\n",
    "import random\n",
    "import logging\n",
    "\n",
    "from shapely.geometry import GeometryCollection\n",
    "import numpy as np\n",
    "import geopandas as gpd\n",
    "\n",
    "\n",
    "import cv2\n",
    "import matplotlib.pyplot as plt"
   ]
  },
  {
   "cell_type": "code",
   "execution_count": null,
   "metadata": {},
   "outputs": [],
   "source": [
    "logging.basicConfig(\n",
    "    level=logging.INFO, format=\"%(asctime)s - %(levelname)s - %(module)s - %(message)s\"\n",
    ")"
   ]
  },
  {
   "cell_type": "code",
   "execution_count": null,
   "metadata": {},
   "outputs": [],
   "source": [
    "categories = ['living_room']\n",
    "\n",
    "generator_model = Path('../models/complete_floorplan/')\n",
    "config_file = Path('../config/config_nn_complete_floorplan.yaml')\n",
    "input_images = Path('../data/images/complete_floorplan/input/')"
   ]
  },
  {
   "cell_type": "code",
   "execution_count": null,
   "metadata": {},
   "outputs": [],
   "source": [
    "Predictor = SingleStepPredictor(model_location=generator_model, \n",
    "                                conf_location=config_file, \n",
    "                                categories=categories)\n",
    "Predictor.load_model()"
   ]
  },
  {
   "cell_type": "code",
   "execution_count": null,
   "metadata": {},
   "outputs": [],
   "source": [
    "input_images_list = [x for x in input_images.glob('*.png')]\n",
    "len(input_images_list)"
   ]
  },
  {
   "cell_type": "code",
   "execution_count": null,
   "metadata": {},
   "outputs": [],
   "source": [
    "random_file = random.choice(input_images_list)\n",
    "\n",
    "input_image = cv2.imread(str(random_file))\n",
    "input_image = cv2.cvtColor(input_image, cv2.COLOR_BGR2RGB)\n",
    "\n",
    "predictions = Predictor.predict(input_image, 5)\n",
    "Predictor.visualize_predictions(input_image, predictions=predictions);"
   ]
  },
  {
   "cell_type": "code",
   "execution_count": null,
   "metadata": {},
   "outputs": [],
   "source": [
    "postprocessed_predictions = Predictor.postprocess_predictions(predictions=predictions, input_img=input_image)"
   ]
  },
  {
   "cell_type": "code",
   "execution_count": null,
   "metadata": {},
   "outputs": [],
   "source": [
    "preprocessed_img = preprocessing.resize_and_pad(\n",
    "    input_image, size=(256, 256), pad_color=255\n",
    ")\n",
    "\n",
    "in_img_gdf = preprocessing.image_to_geodataframe(preprocessed_img)\n",
    "in_img_gdf.geometry = [in_img_gdf.unary_union] * in_img_gdf.shape[0]\n",
    "in_img_gdf = in_img_gdf.head(1).explode().reset_index(drop=True)"
   ]
  },
  {
   "cell_type": "code",
   "execution_count": null,
   "metadata": {},
   "outputs": [],
   "source": [
    "n_predictions = len(postprocessed_predictions.keys())\n",
    "fig, axes = plt.subplots(nrows=int(np.ceil(n_predictions/2)), ncols=2, figsize=(30, 30))\n",
    "axes = axes.flatten()\n",
    "for _preds, ax in zip(postprocessed_predictions.items(), axes):\n",
    "    in_img_gdf.exterior.buffer(1).plot(ax=ax, color='black')\n",
    "\n",
    "    _key, _res = _preds\n",
    "    _res.plot(color=_res['colors'], ax=ax)\n",
    "    _res.exterior.plot(color='black', ax=ax)\n",
    "    ax.set_title(_key)\n",
    "\n",
    "for ax in axes:\n",
    "    ax.axis('off')\n",
    "fig.suptitle('Postprocessed floorplans', fontsize=16, y=1)\n",
    "plt.tight_layout();"
   ]
  },
  {
   "cell_type": "code",
   "execution_count": null,
   "metadata": {},
   "outputs": [],
   "source": []
  }
 ],
 "metadata": {
  "kernelspec": {
   "display_name": "Python 3",
   "language": "python",
   "name": "python3"
  },
  "language_info": {
   "codemirror_mode": {
    "name": "ipython",
    "version": 3
   },
   "file_extension": ".py",
   "mimetype": "text/x-python",
   "name": "python",
   "nbconvert_exporter": "python",
   "pygments_lexer": "ipython3",
   "version": "3.8.3"
  }
 },
 "nbformat": 4,
 "nbformat_minor": 4
}
